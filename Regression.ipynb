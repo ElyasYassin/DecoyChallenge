{
 "cells": [
  {
   "cell_type": "code",
   "execution_count": 1,
   "id": "c535aeb0",
   "metadata": {},
   "outputs": [],
   "source": [
    "import numpy as np\n",
    "import pandas as pd "
   ]
  },
  {
   "cell_type": "code",
   "execution_count": 2,
   "id": "bc8a1606",
   "metadata": {
    "execution": {
     "iopub.execute_input": "2024-10-20T01:32:45.737523Z",
     "iopub.status.busy": "2024-10-20T01:32:45.736722Z",
     "iopub.status.idle": "2024-10-20T01:32:46.226168Z",
     "shell.execute_reply": "2024-10-20T01:32:46.225081Z"
    },
    "papermill": {
     "duration": 0.504051,
     "end_time": "2024-10-20T01:32:46.228951",
     "exception": false,
     "start_time": "2024-10-20T01:32:45.724900",
     "status": "completed"
    },
    "tags": []
   },
   "outputs": [],
   "source": [
    "df = pd.read_excel(\"cleaned_extracted_data.xlsx\")\n",
    "df = df[['SuccessRate', 'Perturbation_Mag', 'VisualSimilarity', 'Avg_Confidence', 'Confidence_Gap', 'Score']]"
   ]
  },
  {
   "cell_type": "code",
   "execution_count": 3,
   "id": "976670ac",
   "metadata": {
    "execution": {
     "iopub.execute_input": "2024-10-20T01:32:46.281950Z",
     "iopub.status.busy": "2024-10-20T01:32:46.281507Z",
     "iopub.status.idle": "2024-10-20T01:32:46.319084Z",
     "shell.execute_reply": "2024-10-20T01:32:46.317309Z"
    },
    "papermill": {
     "duration": 0.051894,
     "end_time": "2024-10-20T01:32:46.321904",
     "exception": false,
     "start_time": "2024-10-20T01:32:46.270010",
     "status": "completed"
    },
    "tags": []
   },
   "outputs": [
    {
     "name": "stdout",
     "output_type": "stream",
     "text": [
      "   SuccessRate  Perturbation_Mag  VisualSimilarity  Avg_Confidence  \\\n",
      "0        1.000            3.3926            0.9369          0.9835   \n",
      "1        1.000           10.0055            0.6588          0.9848   \n",
      "2        1.000            1.2206            0.9887          0.9104   \n",
      "3        0.985            1.5036            0.9870          0.9958   \n",
      "4        1.000            2.2847            0.9572          0.9025   \n",
      "\n",
      "   Confidence_Gap   Score  \n",
      "0         -0.0519  0.7910  \n",
      "1         -0.0531  0.6996  \n",
      "2          0.0212  0.8131  \n",
      "3         -0.0651  0.8086  \n",
      "4          0.0291  0.8011  \n"
     ]
    },
    {
     "data": {
      "text/html": [
       "<div>\n",
       "<style scoped>\n",
       "    .dataframe tbody tr th:only-of-type {\n",
       "        vertical-align: middle;\n",
       "    }\n",
       "\n",
       "    .dataframe tbody tr th {\n",
       "        vertical-align: top;\n",
       "    }\n",
       "\n",
       "    .dataframe thead th {\n",
       "        text-align: right;\n",
       "    }\n",
       "</style>\n",
       "<table border=\"1\" class=\"dataframe\">\n",
       "  <thead>\n",
       "    <tr style=\"text-align: right;\">\n",
       "      <th></th>\n",
       "      <th>SuccessRate</th>\n",
       "      <th>Perturbation_Mag</th>\n",
       "      <th>VisualSimilarity</th>\n",
       "      <th>Avg_Confidence</th>\n",
       "      <th>Confidence_Gap</th>\n",
       "      <th>Score</th>\n",
       "    </tr>\n",
       "  </thead>\n",
       "  <tbody>\n",
       "    <tr>\n",
       "      <th>count</th>\n",
       "      <td>66.000000</td>\n",
       "      <td>66.000000</td>\n",
       "      <td>66.000000</td>\n",
       "      <td>66.000000</td>\n",
       "      <td>66.000000</td>\n",
       "      <td>66.000000</td>\n",
       "    </tr>\n",
       "    <tr>\n",
       "      <th>mean</th>\n",
       "      <td>0.722667</td>\n",
       "      <td>2.147874</td>\n",
       "      <td>0.950026</td>\n",
       "      <td>0.835153</td>\n",
       "      <td>-0.079274</td>\n",
       "      <td>0.724842</td>\n",
       "    </tr>\n",
       "    <tr>\n",
       "      <th>std</th>\n",
       "      <td>0.391598</td>\n",
       "      <td>4.709204</td>\n",
       "      <td>0.158839</td>\n",
       "      <td>0.152839</td>\n",
       "      <td>0.280640</td>\n",
       "      <td>0.117996</td>\n",
       "    </tr>\n",
       "    <tr>\n",
       "      <th>min</th>\n",
       "      <td>0.043000</td>\n",
       "      <td>0.000000</td>\n",
       "      <td>0.002100</td>\n",
       "      <td>0.502400</td>\n",
       "      <td>-0.591600</td>\n",
       "      <td>0.436000</td>\n",
       "    </tr>\n",
       "    <tr>\n",
       "      <th>25%</th>\n",
       "      <td>0.402250</td>\n",
       "      <td>0.337000</td>\n",
       "      <td>0.983300</td>\n",
       "      <td>0.722200</td>\n",
       "      <td>-0.065325</td>\n",
       "      <td>0.574850</td>\n",
       "    </tr>\n",
       "    <tr>\n",
       "      <th>50%</th>\n",
       "      <td>0.950500</td>\n",
       "      <td>1.350400</td>\n",
       "      <td>0.989300</td>\n",
       "      <td>0.902500</td>\n",
       "      <td>-0.055800</td>\n",
       "      <td>0.802450</td>\n",
       "    </tr>\n",
       "    <tr>\n",
       "      <th>75%</th>\n",
       "      <td>0.992500</td>\n",
       "      <td>1.531400</td>\n",
       "      <td>0.999175</td>\n",
       "      <td>0.984275</td>\n",
       "      <td>0.029100</td>\n",
       "      <td>0.809700</td>\n",
       "    </tr>\n",
       "    <tr>\n",
       "      <th>max</th>\n",
       "      <td>1.000000</td>\n",
       "      <td>31.040300</td>\n",
       "      <td>1.000000</td>\n",
       "      <td>0.996200</td>\n",
       "      <td>0.425600</td>\n",
       "      <td>0.819800</td>\n",
       "    </tr>\n",
       "  </tbody>\n",
       "</table>\n",
       "</div>"
      ],
      "text/plain": [
       "       SuccessRate  Perturbation_Mag  VisualSimilarity  Avg_Confidence  \\\n",
       "count    66.000000         66.000000         66.000000       66.000000   \n",
       "mean      0.722667          2.147874          0.950026        0.835153   \n",
       "std       0.391598          4.709204          0.158839        0.152839   \n",
       "min       0.043000          0.000000          0.002100        0.502400   \n",
       "25%       0.402250          0.337000          0.983300        0.722200   \n",
       "50%       0.950500          1.350400          0.989300        0.902500   \n",
       "75%       0.992500          1.531400          0.999175        0.984275   \n",
       "max       1.000000         31.040300          1.000000        0.996200   \n",
       "\n",
       "       Confidence_Gap      Score  \n",
       "count       66.000000  66.000000  \n",
       "mean        -0.079274   0.724842  \n",
       "std          0.280640   0.117996  \n",
       "min         -0.591600   0.436000  \n",
       "25%         -0.065325   0.574850  \n",
       "50%         -0.055800   0.802450  \n",
       "75%          0.029100   0.809700  \n",
       "max          0.425600   0.819800  "
      ]
     },
     "execution_count": 3,
     "metadata": {},
     "output_type": "execute_result"
    }
   ],
   "source": [
    "print(df.head())\n",
    "df.describe()"
   ]
  },
  {
   "cell_type": "code",
   "execution_count": 4,
   "id": "ce05a3a5",
   "metadata": {
    "execution": {
     "iopub.execute_input": "2024-10-20T01:32:46.466072Z",
     "iopub.status.busy": "2024-10-20T01:32:46.465630Z",
     "iopub.status.idle": "2024-10-20T01:32:48.182813Z",
     "shell.execute_reply": "2024-10-20T01:32:48.181644Z"
    },
    "papermill": {
     "duration": 1.732214,
     "end_time": "2024-10-20T01:32:48.185674",
     "exception": false,
     "start_time": "2024-10-20T01:32:46.453460",
     "status": "completed"
    },
    "tags": []
   },
   "outputs": [
    {
     "name": "stderr",
     "output_type": "stream",
     "text": [
      "c:\\Users\\Elyas\\anaconda3\\envs\\Machinelearning\\Lib\\site-packages\\sklearn\\utils\\validation.py:767: FutureWarning: is_sparse is deprecated and will be removed in a future version. Check `isinstance(dtype, pd.SparseDtype)` instead.\n",
      "  if not hasattr(array, \"sparse\") and array.dtypes.apply(is_sparse).any():\n",
      "c:\\Users\\Elyas\\anaconda3\\envs\\Machinelearning\\Lib\\site-packages\\sklearn\\utils\\validation.py:605: FutureWarning: is_sparse is deprecated and will be removed in a future version. Check `isinstance(dtype, pd.SparseDtype)` instead.\n",
      "  if is_sparse(pd_dtype):\n",
      "c:\\Users\\Elyas\\anaconda3\\envs\\Machinelearning\\Lib\\site-packages\\sklearn\\utils\\validation.py:614: FutureWarning: is_sparse is deprecated and will be removed in a future version. Check `isinstance(dtype, pd.SparseDtype)` instead.\n",
      "  if is_sparse(pd_dtype) or not is_extension_array_dtype(pd_dtype):\n",
      "c:\\Users\\Elyas\\anaconda3\\envs\\Machinelearning\\Lib\\site-packages\\sklearn\\utils\\validation.py:767: FutureWarning: is_sparse is deprecated and will be removed in a future version. Check `isinstance(dtype, pd.SparseDtype)` instead.\n",
      "  if not hasattr(array, \"sparse\") and array.dtypes.apply(is_sparse).any():\n",
      "c:\\Users\\Elyas\\anaconda3\\envs\\Machinelearning\\Lib\\site-packages\\sklearn\\utils\\validation.py:605: FutureWarning: is_sparse is deprecated and will be removed in a future version. Check `isinstance(dtype, pd.SparseDtype)` instead.\n",
      "  if is_sparse(pd_dtype):\n",
      "c:\\Users\\Elyas\\anaconda3\\envs\\Machinelearning\\Lib\\site-packages\\sklearn\\utils\\validation.py:614: FutureWarning: is_sparse is deprecated and will be removed in a future version. Check `isinstance(dtype, pd.SparseDtype)` instead.\n",
      "  if is_sparse(pd_dtype) or not is_extension_array_dtype(pd_dtype):\n"
     ]
    }
   ],
   "source": [
    "from sklearn.impute import SimpleImputer\n",
    "import pandas as pd\n",
    "\n",
    "# Initialize SimpleImputer with mean strategy\n",
    "imputer = SimpleImputer(strategy='mean')\n",
    "\n",
    "# Fit the imputer on data_filtered and transform it\n",
    "data_imputed = imputer.fit_transform(df)\n",
    "\n",
    "# Convert the result back to a DataFrame (optional, if you want it in DataFrame format)\n",
    "data_filtered = pd.DataFrame(data_imputed, columns=df.columns)"
   ]
  },
  {
   "cell_type": "markdown",
   "id": "4a5228f2",
   "metadata": {
    "papermill": {
     "duration": 0.009995,
     "end_time": "2024-10-20T01:32:48.206387",
     "exception": false,
     "start_time": "2024-10-20T01:32:48.196392",
     "status": "completed"
    },
    "tags": []
   },
   "source": [
    "We'll now remove outliers "
   ]
  },
  {
   "cell_type": "markdown",
   "id": "3a760586",
   "metadata": {
    "papermill": {
     "duration": 0.010226,
     "end_time": "2024-10-20T01:32:48.227056",
     "exception": false,
     "start_time": "2024-10-20T01:32:48.216830",
     "status": "completed"
    },
    "tags": []
   },
   "source": [
    "<h2> Checking colinearity "
   ]
  },
  {
   "cell_type": "code",
   "execution_count": 5,
   "id": "041b26e3",
   "metadata": {
    "execution": {
     "iopub.execute_input": "2024-10-20T01:32:48.249762Z",
     "iopub.status.busy": "2024-10-20T01:32:48.249134Z",
     "iopub.status.idle": "2024-10-20T01:32:51.507651Z",
     "shell.execute_reply": "2024-10-20T01:32:51.506415Z"
    },
    "papermill": {
     "duration": 3.280097,
     "end_time": "2024-10-20T01:32:51.517480",
     "exception": false,
     "start_time": "2024-10-20T01:32:48.237383",
     "status": "completed"
    },
    "tags": []
   },
   "outputs": [
    {
     "data": {
      "image/png": "[encoded data removed]",
      "text/plain": [
       "<Figure size 1000x800 with 2 Axes>"
      ]
     },
     "metadata": {},
     "output_type": "display_data"
    }
   ],
   "source": [
    "import pandas as pd\n",
    "import seaborn as sns\n",
    "import matplotlib.pyplot as plt\n",
    "\n",
    "corr_matrix = pd.DataFrame(df).corr()\n",
    "plt.figure(figsize=(10, 8))\n",
    "sns.heatmap(corr_matrix, annot=True, cmap='coolwarm')\n",
    "plt.show()"
   ]
  },
  {
   "cell_type": "code",
   "execution_count": 6,
   "id": "c89a14eb",
   "metadata": {
    "execution": {
     "iopub.execute_input": "2024-10-20T01:32:51.555407Z",
     "iopub.status.busy": "2024-10-20T01:32:51.554781Z",
     "iopub.status.idle": "2024-10-20T01:32:52.589155Z",
     "shell.execute_reply": "2024-10-20T01:32:52.587957Z"
    },
    "papermill": {
     "duration": 1.056977,
     "end_time": "2024-10-20T01:32:52.592468",
     "exception": false,
     "start_time": "2024-10-20T01:32:51.535491",
     "status": "completed"
    },
    "tags": []
   },
   "outputs": [
    {
     "data": {
      "image/png": "[encoded data removed]",
      "text/plain": [
       "<Figure size 1000x800 with 2 Axes>"
      ]
     },
     "metadata": {},
     "output_type": "display_data"
    },
    {
     "name": "stdout",
     "output_type": "stream",
     "text": [
      "Highly correlated feature pairs (above 0.7 or below -0.7):\n",
      "VisualSimilarity and Perturbation_Mag: -0.9920239549691647\n",
      "Confidence_Gap and SuccessRate: 0.8186981764539332\n",
      "Score and SuccessRate: 0.8786360612360271\n",
      "Score and Confidence_Gap: 0.7058944203614934\n"
     ]
    }
   ],
   "source": [
    "corr_matrix = df.corr()\n",
    "\n",
    "threshold = 0.7\n",
    "\n",
    "high_corr = corr_matrix[(corr_matrix > threshold) | (corr_matrix < -threshold)]\n",
    "\n",
    "np.fill_diagonal(high_corr.values, np.nan)\n",
    "\n",
    "plt.figure(figsize=(10, 8))\n",
    "sns.heatmap(high_corr, annot=True, cmap='coolwarm', vmin=-1, vmax=1, cbar_kws={'label': 'Correlation'})\n",
    "plt.title('Features with High Positive/Negative Correlations')\n",
    "plt.show()\n",
    "\n",
    "correlated_pairs = []\n",
    "for i in range(len(corr_matrix.columns)):\n",
    "    for j in range(i):\n",
    "        if (corr_matrix.iloc[i, j] > threshold) or (corr_matrix.iloc[i, j] < -threshold):\n",
    "            correlated_pairs.append((corr_matrix.columns[i], corr_matrix.columns[j], corr_matrix.iloc[i, j]))\n",
    "\n",
    "print(\"Highly correlated feature pairs (above 0.7 or below -0.7):\")\n",
    "for pair in correlated_pairs:\n",
    "    print(f\"{pair[0]} and {pair[1]}: {pair[2]}\")"
   ]
  },
  {
   "cell_type": "markdown",
   "id": "f13764da",
   "metadata": {
    "papermill": {
     "duration": 0.025918,
     "end_time": "2024-10-20T01:32:52.639156",
     "exception": false,
     "start_time": "2024-10-20T01:32:52.613238",
     "status": "completed"
    },
    "tags": []
   },
   "source": [
    "<h2> Splitting Dataset"
   ]
  },
  {
   "cell_type": "code",
   "execution_count": 7,
   "id": "76ebcbd4",
   "metadata": {
    "execution": {
     "iopub.execute_input": "2024-10-20T01:32:52.690811Z",
     "iopub.status.busy": "2024-10-20T01:32:52.690184Z",
     "iopub.status.idle": "2024-10-20T01:32:52.722855Z",
     "shell.execute_reply": "2024-10-20T01:32:52.721576Z"
    },
    "papermill": {
     "duration": 0.059182,
     "end_time": "2024-10-20T01:32:52.726180",
     "exception": false,
     "start_time": "2024-10-20T01:32:52.666998",
     "status": "completed"
    },
    "tags": []
   },
   "outputs": [],
   "source": [
    "data_shuffled = df.sample(frac=1)"
   ]
  },
  {
   "cell_type": "code",
   "execution_count": 8,
   "id": "70b483d6",
   "metadata": {
    "execution": {
     "iopub.execute_input": "2024-10-20T01:32:52.772694Z",
     "iopub.status.busy": "2024-10-20T01:32:52.772222Z",
     "iopub.status.idle": "2024-10-20T01:32:52.779944Z",
     "shell.execute_reply": "2024-10-20T01:32:52.778646Z"
    },
    "papermill": {
     "duration": 0.031427,
     "end_time": "2024-10-20T01:32:52.782860",
     "exception": false,
     "start_time": "2024-10-20T01:32:52.751433",
     "status": "completed"
    },
    "tags": []
   },
   "outputs": [
    {
     "data": {
      "text/plain": [
       "(66, 6)"
      ]
     },
     "execution_count": 8,
     "metadata": {},
     "output_type": "execute_result"
    }
   ],
   "source": [
    "data_shuffled.shape"
   ]
  },
  {
   "cell_type": "code",
   "execution_count": 9,
   "id": "514ff42f",
   "metadata": {
    "execution": {
     "iopub.execute_input": "2024-10-20T01:32:52.828372Z",
     "iopub.status.busy": "2024-10-20T01:32:52.827925Z",
     "iopub.status.idle": "2024-10-20T01:32:52.845615Z",
     "shell.execute_reply": "2024-10-20T01:32:52.844384Z"
    },
    "papermill": {
     "duration": 0.041653,
     "end_time": "2024-10-20T01:32:52.848444",
     "exception": false,
     "start_time": "2024-10-20T01:32:52.806791",
     "status": "completed"
    },
    "tags": []
   },
   "outputs": [],
   "source": [
    "X =  data_shuffled.drop('Score', axis=1)  # Features\n",
    "y =  data_shuffled['Score']  # Target variable"
   ]
  },
  {
   "cell_type": "code",
   "execution_count": 10,
   "id": "f1cccadb",
   "metadata": {
    "execution": {
     "iopub.execute_input": "2024-10-20T01:32:52.889493Z",
     "iopub.status.busy": "2024-10-20T01:32:52.889025Z",
     "iopub.status.idle": "2024-10-20T01:32:52.924648Z",
     "shell.execute_reply": "2024-10-20T01:32:52.923454Z"
    },
    "papermill": {
     "duration": 0.059787,
     "end_time": "2024-10-20T01:32:52.927550",
     "exception": false,
     "start_time": "2024-10-20T01:32:52.867763",
     "status": "completed"
    },
    "tags": []
   },
   "outputs": [],
   "source": [
    "from sklearn.model_selection import train_test_split\n",
    "X_train, X_test, y_train, y_test = train_test_split(X, y, test_size=0.1, random_state=42)"
   ]
  },
  {
   "cell_type": "code",
   "execution_count": 11,
   "id": "898861ee",
   "metadata": {
    "execution": {
     "iopub.execute_input": "2024-10-20T01:32:52.972624Z",
     "iopub.status.busy": "2024-10-20T01:32:52.971366Z",
     "iopub.status.idle": "2024-10-20T01:32:52.979594Z",
     "shell.execute_reply": "2024-10-20T01:32:52.978232Z"
    },
    "papermill": {
     "duration": 0.031934,
     "end_time": "2024-10-20T01:32:52.982127",
     "exception": false,
     "start_time": "2024-10-20T01:32:52.950193",
     "status": "completed"
    },
    "tags": []
   },
   "outputs": [
    {
     "name": "stdout",
     "output_type": "stream",
     "text": [
      "(59, 5)\n",
      "(59,)\n",
      "(7, 5)\n",
      "(7,)\n"
     ]
    }
   ],
   "source": [
    "print(X_train.shape)\n",
    "print(y_train.shape)\n",
    "print(X_test.shape)\n",
    "print(y_test.shape)\n"
   ]
  },
  {
   "cell_type": "markdown",
   "id": "2bbb4727",
   "metadata": {
    "papermill": {
     "duration": 0.01938,
     "end_time": "2024-10-20T01:32:53.022936",
     "exception": false,
     "start_time": "2024-10-20T01:32:53.003556",
     "status": "completed"
    },
    "tags": []
   },
   "source": [
    "<h1> Scale Data </h1>"
   ]
  },
  {
   "cell_type": "code",
   "execution_count": 12,
   "id": "2987bd91",
   "metadata": {
    "execution": {
     "iopub.execute_input": "2024-10-20T01:32:53.064173Z",
     "iopub.status.busy": "2024-10-20T01:32:53.063731Z",
     "iopub.status.idle": "2024-10-20T01:32:53.069348Z",
     "shell.execute_reply": "2024-10-20T01:32:53.068141Z"
    },
    "papermill": {
     "duration": 0.029337,
     "end_time": "2024-10-20T01:32:53.071888",
     "exception": false,
     "start_time": "2024-10-20T01:32:53.042551",
     "status": "completed"
    },
    "tags": []
   },
   "outputs": [],
   "source": [
    "from sklearn.preprocessing import MinMaxScaler\n",
    "from sklearn.preprocessing import StandardScaler"
   ]
  },
  {
   "cell_type": "code",
   "execution_count": 13,
   "id": "9611088a",
   "metadata": {
    "execution": {
     "iopub.execute_input": "2024-10-20T01:32:53.117403Z",
     "iopub.status.busy": "2024-10-20T01:32:53.116926Z",
     "iopub.status.idle": "2024-10-20T01:32:53.168289Z",
     "shell.execute_reply": "2024-10-20T01:32:53.167070Z"
    },
    "papermill": {
     "duration": 0.079297,
     "end_time": "2024-10-20T01:32:53.171284",
     "exception": false,
     "start_time": "2024-10-20T01:32:53.091987",
     "status": "completed"
    },
    "tags": []
   },
   "outputs": [
    {
     "name": "stderr",
     "output_type": "stream",
     "text": [
      "c:\\Users\\Elyas\\anaconda3\\envs\\Machinelearning\\Lib\\site-packages\\sklearn\\utils\\validation.py:767: FutureWarning: is_sparse is deprecated and will be removed in a future version. Check `isinstance(dtype, pd.SparseDtype)` instead.\n",
      "  if not hasattr(array, \"sparse\") and array.dtypes.apply(is_sparse).any():\n",
      "c:\\Users\\Elyas\\anaconda3\\envs\\Machinelearning\\Lib\\site-packages\\sklearn\\utils\\validation.py:605: FutureWarning: is_sparse is deprecated and will be removed in a future version. Check `isinstance(dtype, pd.SparseDtype)` instead.\n",
      "  if is_sparse(pd_dtype):\n",
      "c:\\Users\\Elyas\\anaconda3\\envs\\Machinelearning\\Lib\\site-packages\\sklearn\\utils\\validation.py:614: FutureWarning: is_sparse is deprecated and will be removed in a future version. Check `isinstance(dtype, pd.SparseDtype)` instead.\n",
      "  if is_sparse(pd_dtype) or not is_extension_array_dtype(pd_dtype):\n",
      "c:\\Users\\Elyas\\anaconda3\\envs\\Machinelearning\\Lib\\site-packages\\sklearn\\utils\\validation.py:767: FutureWarning: is_sparse is deprecated and will be removed in a future version. Check `isinstance(dtype, pd.SparseDtype)` instead.\n",
      "  if not hasattr(array, \"sparse\") and array.dtypes.apply(is_sparse).any():\n",
      "c:\\Users\\Elyas\\anaconda3\\envs\\Machinelearning\\Lib\\site-packages\\sklearn\\utils\\validation.py:605: FutureWarning: is_sparse is deprecated and will be removed in a future version. Check `isinstance(dtype, pd.SparseDtype)` instead.\n",
      "  if is_sparse(pd_dtype):\n",
      "c:\\Users\\Elyas\\anaconda3\\envs\\Machinelearning\\Lib\\site-packages\\sklearn\\utils\\validation.py:614: FutureWarning: is_sparse is deprecated and will be removed in a future version. Check `isinstance(dtype, pd.SparseDtype)` instead.\n",
      "  if is_sparse(pd_dtype) or not is_extension_array_dtype(pd_dtype):\n",
      "c:\\Users\\Elyas\\anaconda3\\envs\\Machinelearning\\Lib\\site-packages\\sklearn\\utils\\validation.py:767: FutureWarning: is_sparse is deprecated and will be removed in a future version. Check `isinstance(dtype, pd.SparseDtype)` instead.\n",
      "  if not hasattr(array, \"sparse\") and array.dtypes.apply(is_sparse).any():\n",
      "c:\\Users\\Elyas\\anaconda3\\envs\\Machinelearning\\Lib\\site-packages\\sklearn\\utils\\validation.py:605: FutureWarning: is_sparse is deprecated and will be removed in a future version. Check `isinstance(dtype, pd.SparseDtype)` instead.\n",
      "  if is_sparse(pd_dtype):\n",
      "c:\\Users\\Elyas\\anaconda3\\envs\\Machinelearning\\Lib\\site-packages\\sklearn\\utils\\validation.py:614: FutureWarning: is_sparse is deprecated and will be removed in a future version. Check `isinstance(dtype, pd.SparseDtype)` instead.\n",
      "  if is_sparse(pd_dtype) or not is_extension_array_dtype(pd_dtype):\n",
      "c:\\Users\\Elyas\\anaconda3\\envs\\Machinelearning\\Lib\\site-packages\\sklearn\\utils\\validation.py:767: FutureWarning: is_sparse is deprecated and will be removed in a future version. Check `isinstance(dtype, pd.SparseDtype)` instead.\n",
      "  if not hasattr(array, \"sparse\") and array.dtypes.apply(is_sparse).any():\n",
      "c:\\Users\\Elyas\\anaconda3\\envs\\Machinelearning\\Lib\\site-packages\\sklearn\\utils\\validation.py:605: FutureWarning: is_sparse is deprecated and will be removed in a future version. Check `isinstance(dtype, pd.SparseDtype)` instead.\n",
      "  if is_sparse(pd_dtype):\n",
      "c:\\Users\\Elyas\\anaconda3\\envs\\Machinelearning\\Lib\\site-packages\\sklearn\\utils\\validation.py:614: FutureWarning: is_sparse is deprecated and will be removed in a future version. Check `isinstance(dtype, pd.SparseDtype)` instead.\n",
      "  if is_sparse(pd_dtype) or not is_extension_array_dtype(pd_dtype):\n"
     ]
    }
   ],
   "source": [
    "scaler = StandardScaler()\n",
    "\n",
    "scaler.fit(X_train)\n",
    "\n",
    "X_train_scaled = scaler.transform(X_train)\n",
    "X_train_scaled_df = pd.DataFrame(X_train_scaled, columns=X.columns)\n",
    "\n",
    "\n",
    "scaler.fit(X_test)\n",
    "\n",
    "X_test_scaled = scaler.transform(X_test)\n",
    "X_test_scaled_df = pd.DataFrame(X_test_scaled, columns=X.columns)"
   ]
  },
  {
   "cell_type": "markdown",
   "id": "4a328481",
   "metadata": {
    "papermill": {
     "duration": 0.01912,
     "end_time": "2024-10-20T01:32:53.210008",
     "exception": false,
     "start_time": "2024-10-20T01:32:53.190888",
     "status": "completed"
    },
    "tags": []
   },
   "source": [
    "<h1> Linear Regression </h1>"
   ]
  },
  {
   "cell_type": "code",
   "execution_count": null,
   "id": "2c0e653f",
   "metadata": {
    "execution": {
     "iopub.execute_input": "2024-10-20T01:32:53.250757Z",
     "iopub.status.busy": "2024-10-20T01:32:53.250190Z",
     "iopub.status.idle": "2024-10-20T01:32:53.654699Z",
     "shell.execute_reply": "2024-10-20T01:32:53.653411Z"
    },
    "papermill": {
     "duration": 0.428529,
     "end_time": "2024-10-20T01:32:53.657675",
     "exception": false,
     "start_time": "2024-10-20T01:32:53.229146",
     "status": "completed"
    },
    "tags": []
   },
   "outputs": [
    {
     "name": "stderr",
     "output_type": "stream",
     "text": [
      "c:\\Users\\Elyas\\anaconda3\\envs\\Machinelearning\\Lib\\site-packages\\sklearn\\utils\\validation.py:767: FutureWarning: is_sparse is deprecated and will be removed in a future version. Check `isinstance(dtype, pd.SparseDtype)` instead.\n",
      "  if not hasattr(array, \"sparse\") and array.dtypes.apply(is_sparse).any():\n",
      "c:\\Users\\Elyas\\anaconda3\\envs\\Machinelearning\\Lib\\site-packages\\sklearn\\utils\\validation.py:605: FutureWarning: is_sparse is deprecated and will be removed in a future version. Check `isinstance(dtype, pd.SparseDtype)` instead.\n",
      "  if is_sparse(pd_dtype):\n",
      "c:\\Users\\Elyas\\anaconda3\\envs\\Machinelearning\\Lib\\site-packages\\sklearn\\utils\\validation.py:614: FutureWarning: is_sparse is deprecated and will be removed in a future version. Check `isinstance(dtype, pd.SparseDtype)` instead.\n",
      "  if is_sparse(pd_dtype) or not is_extension_array_dtype(pd_dtype):\n",
      "c:\\Users\\Elyas\\anaconda3\\envs\\Machinelearning\\Lib\\site-packages\\sklearn\\utils\\validation.py:605: FutureWarning: is_sparse is deprecated and will be removed in a future version. Check `isinstance(dtype, pd.SparseDtype)` instead.\n",
      "  if is_sparse(pd_dtype):\n",
      "c:\\Users\\Elyas\\anaconda3\\envs\\Machinelearning\\Lib\\site-packages\\sklearn\\utils\\validation.py:614: FutureWarning: is_sparse is deprecated and will be removed in a future version. Check `isinstance(dtype, pd.SparseDtype)` instead.\n",
      "  if is_sparse(pd_dtype) or not is_extension_array_dtype(pd_dtype):\n"
     ]
    },
    {
     "data": {
      "text/html": [
       "<style>#sk-container-id-1 {color: black;background-color: white;}#sk-container-id-1 pre{padding: 0;}#sk-container-id-1 div.sk-toggleable {background-color: white;}#sk-container-id-1 label.sk-toggleable__label {cursor: pointer;display: block;width: 100%;margin-bottom: 0;padding: 0.3em;box-sizing: border-box;text-align: center;}#sk-container-id-1 label.sk-toggleable__label-arrow:before {content: \"▸\";float: left;margin-right: 0.25em;color: #696969;}#sk-container-id-1 label.sk-toggleable__label-arrow:hover:before {color: black;}#sk-container-id-1 div.sk-estimator:hover label.sk-toggleable__label-arrow:before {color: black;}#sk-container-id-1 div.sk-toggleable__content {max-height: 0;max-width: 0;overflow: hidden;text-align: left;background-color: #f0f8ff;}#sk-container-id-1 div.sk-toggleable__content pre {margin: 0.2em;color: black;border-radius: 0.25em;background-color: #f0f8ff;}#sk-container-id-1 input.sk-toggleable__control:checked~div.sk-toggleable__content {max-height: 200px;max-width: 100%;overflow: auto;}#sk-container-id-1 input.sk-toggleable__control:checked~label.sk-toggleable__label-arrow:before {content: \"▾\";}#sk-container-id-1 div.sk-estimator input.sk-toggleable__control:checked~label.sk-toggleable__label {background-color: #d4ebff;}#sk-container-id-1 div.sk-label input.sk-toggleable__control:checked~label.sk-toggleable__label {background-color: #d4ebff;}#sk-container-id-1 input.sk-hidden--visually {border: 0;clip: rect(1px 1px 1px 1px);clip: rect(1px, 1px, 1px, 1px);height: 1px;margin: -1px;overflow: hidden;padding: 0;position: absolute;width: 1px;}#sk-container-id-1 div.sk-estimator {font-family: monospace;background-color: #f0f8ff;border: 1px dotted black;border-radius: 0.25em;box-sizing: border-box;margin-bottom: 0.5em;}#sk-container-id-1 div.sk-estimator:hover {background-color: #d4ebff;}#sk-container-id-1 div.sk-parallel-item::after {content: \"\";width: 100%;border-bottom: 1px solid gray;flex-grow: 1;}#sk-container-id-1 div.sk-label:hover label.sk-toggleable__label {background-color: #d4ebff;}#sk-container-id-1 div.sk-serial::before {content: \"\";position: absolute;border-left: 1px solid gray;box-sizing: border-box;top: 0;bottom: 0;left: 50%;z-index: 0;}#sk-container-id-1 div.sk-serial {display: flex;flex-direction: column;align-items: center;background-color: white;padding-right: 0.2em;padding-left: 0.2em;position: relative;}#sk-container-id-1 div.sk-item {position: relative;z-index: 1;}#sk-container-id-1 div.sk-parallel {display: flex;align-items: stretch;justify-content: center;background-color: white;position: relative;}#sk-container-id-1 div.sk-item::before, #sk-container-id-1 div.sk-parallel-item::before {content: \"\";position: absolute;border-left: 1px solid gray;box-sizing: border-box;top: 0;bottom: 0;left: 50%;z-index: -1;}#sk-container-id-1 div.sk-parallel-item {display: flex;flex-direction: column;z-index: 1;position: relative;background-color: white;}#sk-container-id-1 div.sk-parallel-item:first-child::after {align-self: flex-end;width: 50%;}#sk-container-id-1 div.sk-parallel-item:last-child::after {align-self: flex-start;width: 50%;}#sk-container-id-1 div.sk-parallel-item:only-child::after {width: 0;}#sk-container-id-1 div.sk-dashed-wrapped {border: 1px dashed gray;margin: 0 0.4em 0.5em 0.4em;box-sizing: border-box;padding-bottom: 0.4em;background-color: white;}#sk-container-id-1 div.sk-label label {font-family: monospace;font-weight: bold;display: inline-block;line-height: 1.2em;}#sk-container-id-1 div.sk-label-container {text-align: center;}#sk-container-id-1 div.sk-container {/* jupyter's `normalize.less` sets `[hidden] { display: none; }` but bootstrap.min.css set `[hidden] { display: none !important; }` so we also need the `!important` here to be able to override the default hidden behavior on the sphinx rendered scikit-learn.org. See: https://github.com/scikit-learn/scikit-learn/issues/21755 */display: inline-block !important;position: relative;}#sk-container-id-1 div.sk-text-repr-fallback {display: none;}</style><div id=\"sk-container-id-1\" class=\"sk-top-container\"><div class=\"sk-text-repr-fallback\"><pre>LinearRegression()</pre><b>In a Jupyter environment, please rerun this cell to show the HTML representation or trust the notebook. <br />On GitHub, the HTML representation is unable to render, please try loading this page with nbviewer.org.</b></div><div class=\"sk-container\" hidden><div class=\"sk-item\"><div class=\"sk-estimator sk-toggleable\"><input class=\"sk-toggleable__control sk-hidden--visually\" id=\"sk-estimator-id-1\" type=\"checkbox\" checked><label for=\"sk-estimator-id-1\" class=\"sk-toggleable__label sk-toggleable__label-arrow\">LinearRegression</label><div class=\"sk-toggleable__content\"><pre>LinearRegression()</pre></div></div></div></div></div>"
      ],
      "text/plain": [
       "LinearRegression()"
      ]
     },
     "execution_count": 14,
     "metadata": {},
     "output_type": "execute_result"
    }
   ],
   "source": [
    "from sklearn import linear_model\n",
    "\n",
    "model = linear_model.LinearRegression()\n",
    "\n",
    "model.fit(X=X_train_scaled_df,\n",
    "          y=y_train)"
   ]
  },
  {
   "cell_type": "code",
   "execution_count": 15,
   "id": "380f77ca",
   "metadata": {
    "execution": {
     "iopub.execute_input": "2024-10-20T01:32:53.757674Z",
     "iopub.status.busy": "2024-10-20T01:32:53.757227Z",
     "iopub.status.idle": "2024-10-20T01:32:53.777750Z",
     "shell.execute_reply": "2024-10-20T01:32:53.776273Z"
    },
    "papermill": {
     "duration": 0.062293,
     "end_time": "2024-10-20T01:32:53.781793",
     "exception": false,
     "start_time": "2024-10-20T01:32:53.719500",
     "status": "completed"
    },
    "tags": []
   },
   "outputs": [
    {
     "name": "stderr",
     "output_type": "stream",
     "text": [
      "c:\\Users\\Elyas\\anaconda3\\envs\\Machinelearning\\Lib\\site-packages\\sklearn\\utils\\validation.py:767: FutureWarning: is_sparse is deprecated and will be removed in a future version. Check `isinstance(dtype, pd.SparseDtype)` instead.\n",
      "  if not hasattr(array, \"sparse\") and array.dtypes.apply(is_sparse).any():\n",
      "c:\\Users\\Elyas\\anaconda3\\envs\\Machinelearning\\Lib\\site-packages\\sklearn\\utils\\validation.py:605: FutureWarning: is_sparse is deprecated and will be removed in a future version. Check `isinstance(dtype, pd.SparseDtype)` instead.\n",
      "  if is_sparse(pd_dtype):\n",
      "c:\\Users\\Elyas\\anaconda3\\envs\\Machinelearning\\Lib\\site-packages\\sklearn\\utils\\validation.py:614: FutureWarning: is_sparse is deprecated and will be removed in a future version. Check `isinstance(dtype, pd.SparseDtype)` instead.\n",
      "  if is_sparse(pd_dtype) or not is_extension_array_dtype(pd_dtype):\n"
     ]
    }
   ],
   "source": [
    "pred = model.predict(X_test_scaled_df )"
   ]
  },
  {
   "cell_type": "markdown",
   "id": "d3797b28",
   "metadata": {
    "papermill": {
     "duration": 0.044682,
     "end_time": "2024-10-20T01:32:53.901188",
     "exception": false,
     "start_time": "2024-10-20T01:32:53.856506",
     "status": "completed"
    },
    "tags": []
   },
   "source": [
    "<h1> Evaluation </h1>"
   ]
  },
  {
   "cell_type": "code",
   "execution_count": 16,
   "id": "03a5e0de",
   "metadata": {
    "execution": {
     "iopub.execute_input": "2024-10-20T01:32:53.946580Z",
     "iopub.status.busy": "2024-10-20T01:32:53.945230Z",
     "iopub.status.idle": "2024-10-20T01:32:53.956774Z",
     "shell.execute_reply": "2024-10-20T01:32:53.955189Z"
    },
    "papermill": {
     "duration": 0.036752,
     "end_time": "2024-10-20T01:32:53.959192",
     "exception": false,
     "start_time": "2024-10-20T01:32:53.922440",
     "status": "completed"
    },
    "tags": []
   },
   "outputs": [
    {
     "name": "stdout",
     "output_type": "stream",
     "text": [
      "(7,)\n",
      "(7,)\n",
      "Root Mean Square Logarithmic Error (RMSLE): 0.034332249209717496\n"
     ]
    }
   ],
   "source": [
    "print(y_test.shape)\n",
    "print(pred.shape)\n",
    "\n",
    "def rmsle(y_true, y_pred):\n",
    "    return np.sqrt(np.mean((np.log1p(y_true) - np.log1p(y_pred)) ** 2))\n",
    "\n",
    "\n",
    "# Calculate RMSLE\n",
    "rmsle_value = rmsle(y_test, pred)\n",
    "\n",
    "print(f\"Root Mean Square Logarithmic Error (RMSLE): {rmsle_value}\")"
   ]
  },
  {
   "cell_type": "markdown",
   "id": "43931616",
   "metadata": {
    "papermill": {
     "duration": 0.021044,
     "end_time": "2024-10-20T01:32:54.001251",
     "exception": false,
     "start_time": "2024-10-20T01:32:53.980207",
     "status": "completed"
    },
    "tags": []
   },
   "source": [
    "<h1> Check For Overfitting"
   ]
  },
  {
   "cell_type": "code",
   "execution_count": 17,
   "id": "40eb279f",
   "metadata": {
    "execution": {
     "iopub.execute_input": "2024-10-20T01:32:54.047142Z",
     "iopub.status.busy": "2024-10-20T01:32:54.046121Z",
     "iopub.status.idle": "2024-10-20T01:32:58.865278Z",
     "shell.execute_reply": "2024-10-20T01:32:58.864024Z"
    },
    "papermill": {
     "duration": 4.845442,
     "end_time": "2024-10-20T01:32:58.868000",
     "exception": false,
     "start_time": "2024-10-20T01:32:54.022558",
     "status": "completed"
    },
    "tags": []
   },
   "outputs": [
    {
     "data": {
      "image/png": "[encoded data removed]",
      "text/plain": [
       "<Figure size 640x480 with 1 Axes>"
      ]
     },
     "metadata": {},
     "output_type": "display_data"
    }
   ],
   "source": [
    "from sklearn.metrics import make_scorer, mean_squared_log_error\n",
    "from sklearn.model_selection import learning_curve\n",
    "\n",
    "rmsle_scorer = make_scorer(rmsle, greater_is_better=False)\n",
    "\n",
    "train_sizes, train_scores, valid_scores = learning_curve(\n",
    "    model, X, y, cv=5, n_jobs=-1, \n",
    "    train_sizes=np.linspace(0.1, 1.0, 10),\n",
    "    scoring=rmsle_scorer\n",
    ")\n",
    "\n",
    "\n",
    "train_mean = -train_scores.mean(axis=1)\n",
    "valid_mean = -valid_scores.mean(axis=1)\n",
    "train_std = train_scores.std(axis=1)\n",
    "valid_std = valid_scores.std(axis=1)\n",
    "\n",
    "plt.plot(train_sizes, train_mean, label='Training Score (RMSLE)', color='blue')\n",
    "plt.plot(train_sizes, valid_mean, label='Validation Score (RMSLE)', color='orange')\n",
    "plt.fill_between(train_sizes, train_mean - train_std, train_mean + train_std, color='blue', alpha=0.1)\n",
    "plt.fill_between(train_sizes, valid_mean - valid_std, valid_mean + valid_std, color='orange', alpha=0.1)\n",
    "plt.title('Learning Curve with RMSLE')\n",
    "plt.xlabel('Training Size')\n",
    "plt.ylabel('RMSLE')\n",
    "plt.legend()\n",
    "plt.show()"
   ]
  },
  {
   "cell_type": "code",
   "execution_count": 18,
   "id": "a6ea839a",
   "metadata": {},
   "outputs": [
    {
     "name": "stdout",
     "output_type": "stream",
     "text": [
      "    SuccessRate  Perturbation_Mag  VisualSimilarity  Avg_Confidence  \\\n",
      "25        0.995            0.3494            0.9991          0.5730   \n",
      "62        0.950            1.3510            0.9893          0.9819   \n",
      "36        0.538            1.7249            0.9823          0.9068   \n",
      "60        0.060            0.0005            1.0000          0.7372   \n",
      "5         0.984            1.4541            0.9878          0.9949   \n",
      "44        0.982            1.3056            0.9900          0.9907   \n",
      "51        0.077            0.0314            1.0000          0.7762   \n",
      "\n",
      "    Confidence_Gap  \n",
      "25          0.3588  \n",
      "62         -0.0538  \n",
      "36         -0.0326  \n",
      "60         -0.5816  \n",
      "5          -0.0644  \n",
      "44         -0.0603  \n",
      "51         -0.5009  \n",
      "[0.86370776 0.77203155 0.64595034 0.61197353 0.76638046 0.78300361\n",
      " 0.63272393]\n",
      "25    0.8191\n",
      "62    0.8036\n",
      "36    0.7225\n",
      "60    0.5359\n",
      "5     0.8088\n",
      "44    0.8097\n",
      "51    0.5585\n",
      "Name: Score, dtype: float64\n"
     ]
    }
   ],
   "source": [
    "print(X_test)\n",
    "print(pred)\n",
    "print(y_test)"
   ]
  },
  {
   "cell_type": "markdown",
   "id": "c1bd4b87",
   "metadata": {},
   "source": [
    "<h1> Get coeffs "
   ]
  },
  {
   "cell_type": "code",
   "execution_count": 19,
   "id": "70bfcea8",
   "metadata": {},
   "outputs": [
    {
     "name": "stdout",
     "output_type": "stream",
     "text": [
      "Intercept (bias): 0.7251101694915253\n",
      "Coefficients (weights): [ 0.06446005 -0.02654128  0.03326105  0.02528755  0.04596439]\n"
     ]
    }
   ],
   "source": [
    "# Get the coefficients (weights for each feature)\n",
    "coefficients = model.coef_\n",
    "\n",
    "# Get the intercept (bias term)\n",
    "intercept = model.intercept_\n",
    "\n",
    "print(\"Intercept (bias):\", intercept)\n",
    "print(\"Coefficients (weights):\", coefficients)"
   ]
  },
  {
   "cell_type": "code",
   "execution_count": 20,
   "id": "0199a6bf",
   "metadata": {},
   "outputs": [
    {
     "name": "stdout",
     "output_type": "stream",
     "text": [
      "Formula: Score = 0.7251 + (0.0645 * SuccessRate) + (-0.0265 * Perturbation_Mag) + (0.0333 * VisualSimilarity) + (0.0253 * Avg_Confidence) + (0.0460 * Confidence_Gap)\n"
     ]
    }
   ],
   "source": [
    "# Assuming X is a pandas DataFrame with column names for features\n",
    "feature_names = X.columns\n",
    "\n",
    "# Construct the formula string\n",
    "formula = f\"Score = {intercept:.4f}\"\n",
    "for coef, name in zip(coefficients, feature_names):\n",
    "    formula += f\" + ({coef:.4f} * {name})\"\n",
    "\n",
    "print(\"Formula:\", formula)"
   ]
  },
  {
   "cell_type": "markdown",
   "id": "59474df1",
   "metadata": {},
   "source": [
    "<h1> Try coeffs on some new data </h1>"
   ]
  },
  {
   "cell_type": "code",
   "execution_count": 21,
   "id": "16d3d960",
   "metadata": {},
   "outputs": [
    {
     "name": "stderr",
     "output_type": "stream",
     "text": [
      "c:\\Users\\Elyas\\anaconda3\\envs\\Machinelearning\\Lib\\site-packages\\sklearn\\utils\\validation.py:767: FutureWarning: is_sparse is deprecated and will be removed in a future version. Check `isinstance(dtype, pd.SparseDtype)` instead.\n",
      "  if not hasattr(array, \"sparse\") and array.dtypes.apply(is_sparse).any():\n",
      "c:\\Users\\Elyas\\anaconda3\\envs\\Machinelearning\\Lib\\site-packages\\sklearn\\utils\\validation.py:605: FutureWarning: is_sparse is deprecated and will be removed in a future version. Check `isinstance(dtype, pd.SparseDtype)` instead.\n",
      "  if is_sparse(pd_dtype):\n",
      "c:\\Users\\Elyas\\anaconda3\\envs\\Machinelearning\\Lib\\site-packages\\sklearn\\utils\\validation.py:614: FutureWarning: is_sparse is deprecated and will be removed in a future version. Check `isinstance(dtype, pd.SparseDtype)` instead.\n",
      "  if is_sparse(pd_dtype) or not is_extension_array_dtype(pd_dtype):\n",
      "c:\\Users\\Elyas\\anaconda3\\envs\\Machinelearning\\Lib\\site-packages\\sklearn\\utils\\validation.py:767: FutureWarning: is_sparse is deprecated and will be removed in a future version. Check `isinstance(dtype, pd.SparseDtype)` instead.\n",
      "  if not hasattr(array, \"sparse\") and array.dtypes.apply(is_sparse).any():\n",
      "c:\\Users\\Elyas\\anaconda3\\envs\\Machinelearning\\Lib\\site-packages\\sklearn\\utils\\validation.py:605: FutureWarning: is_sparse is deprecated and will be removed in a future version. Check `isinstance(dtype, pd.SparseDtype)` instead.\n",
      "  if is_sparse(pd_dtype):\n",
      "c:\\Users\\Elyas\\anaconda3\\envs\\Machinelearning\\Lib\\site-packages\\sklearn\\utils\\validation.py:614: FutureWarning: is_sparse is deprecated and will be removed in a future version. Check `isinstance(dtype, pd.SparseDtype)` instead.\n",
      "  if is_sparse(pd_dtype) or not is_extension_array_dtype(pd_dtype):\n",
      "c:\\Users\\Elyas\\anaconda3\\envs\\Machinelearning\\Lib\\site-packages\\sklearn\\utils\\validation.py:767: FutureWarning: is_sparse is deprecated and will be removed in a future version. Check `isinstance(dtype, pd.SparseDtype)` instead.\n",
      "  if not hasattr(array, \"sparse\") and array.dtypes.apply(is_sparse).any():\n",
      "c:\\Users\\Elyas\\anaconda3\\envs\\Machinelearning\\Lib\\site-packages\\sklearn\\utils\\validation.py:605: FutureWarning: is_sparse is deprecated and will be removed in a future version. Check `isinstance(dtype, pd.SparseDtype)` instead.\n",
      "  if is_sparse(pd_dtype):\n",
      "c:\\Users\\Elyas\\anaconda3\\envs\\Machinelearning\\Lib\\site-packages\\sklearn\\utils\\validation.py:614: FutureWarning: is_sparse is deprecated and will be removed in a future version. Check `isinstance(dtype, pd.SparseDtype)` instead.\n",
      "  if is_sparse(pd_dtype) or not is_extension_array_dtype(pd_dtype):\n"
     ]
    },
    {
     "data": {
      "text/plain": [
       "array([0.79050198, 0.77082945, 0.54733273, 0.79177651])"
      ]
     },
     "execution_count": 21,
     "metadata": {},
     "output_type": "execute_result"
    }
   ],
   "source": [
    "df = pd.read_excel(\"data.xlsx\")\n",
    "df = df[['SuccessRate', 'Perturbation_Mag', 'VisualSimilarity', 'Avg_Confidence', 'Confidence_Gap']]\n",
    "\n",
    "scaler = StandardScaler()\n",
    "\n",
    "scaler.fit(df )\n",
    "\n",
    "new_data = scaler.transform(df )\n",
    "\n",
    "new_data = pd.DataFrame(new_data, columns=df.columns)\n",
    "\n",
    "model.predict(new_data)"
   ]
  }
 ],
 "metadata": {
  "kaggle": {
   "accelerator": "none",
   "dataSources": [
    {
     "databundleVersionId": 9737874,
     "sourceId": 86009,
     "sourceType": "competition"
    }
   ],
   "dockerImageVersionId": 30786,
   "isGpuEnabled": false,
   "isInternetEnabled": false,
   "language": "python",
   "sourceType": "notebook"
  },
  "kernelspec": {
   "display_name": "Python 3",
   "language": "python",
   "name": "python3"
  },
  "language_info": {
   "codemirror_mode": {
    "name": "ipython",
    "version": 3
   },
   "file_extension": ".py",
   "mimetype": "text/x-python",
   "name": "python",
   "nbconvert_exporter": "python",
   "pygments_lexer": "ipython3",
   "version": "3.11.4"
  },
  "papermill": {
   "default_parameters": {},
   "duration": 55.08225,
   "end_time": "2024-10-20T01:33:01.680026",
   "environment_variables": {},
   "exception": null,
   "input_path": "__notebook__.ipynb",
   "output_path": "__notebook__.ipynb",
   "parameters": {},
   "start_time": "2024-10-20T01:32:06.597776",
   "version": "2.6.0"
  }
 },
 "nbformat": 4,
 "nbformat_minor": 5
}
