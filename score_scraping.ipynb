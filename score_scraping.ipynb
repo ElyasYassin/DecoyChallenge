{
 "cells": [
  {
   "cell_type": "code",
   "execution_count": 5,
   "metadata": {},
   "outputs": [
    {
     "name": "stdout",
     "output_type": "stream",
     "text": [
      "None\n"
     ]
    },
    {
     "ename": "AttributeError",
     "evalue": "'NoneType' object has no attribute 'find_all'",
     "output_type": "error",
     "traceback": [
      "\u001b[1;31m---------------------------------------------------------------------------\u001b[0m",
      "\u001b[1;31mAttributeError\u001b[0m                            Traceback (most recent call last)",
      "Cell \u001b[1;32mIn[5], line 16\u001b[0m\n\u001b[0;32m     14\u001b[0m \u001b[38;5;28mprint\u001b[39m(table)\n\u001b[0;32m     15\u001b[0m \u001b[38;5;66;03m# Extract rows from the table\u001b[39;00m\n\u001b[1;32m---> 16\u001b[0m rows \u001b[38;5;241m=\u001b[39m \u001b[43mtable\u001b[49m\u001b[38;5;241;43m.\u001b[39;49m\u001b[43mfind_all\u001b[49m(\u001b[38;5;124m'\u001b[39m\u001b[38;5;124mtr\u001b[39m\u001b[38;5;124m'\u001b[39m)\n\u001b[0;32m     18\u001b[0m \u001b[38;5;66;03m# Initialize a list to store the extracted data\u001b[39;00m\n\u001b[0;32m     19\u001b[0m table_data \u001b[38;5;241m=\u001b[39m []\n",
      "\u001b[1;31mAttributeError\u001b[0m: 'NoneType' object has no attribute 'find_all'"
     ]
    }
   ],
   "source": [
    "import requests\n",
    "from bs4 import BeautifulSoup\n",
    "import pandas as pd\n",
    "\n",
    "# URL of the webpage that contains the table\n",
    "url = 'http://decoychallenge.ucdenverd.pvt/'\n",
    "\n",
    "# Send a request to fetch the webpage content\n",
    "response = requests.get(url)\n",
    "soup = BeautifulSoup(response.text, 'html.parser')\n",
    "\n",
    "# Find the table (you might need to inspect the page to get the exact tag/class)\n",
    "table = soup.find( {'class': 'MuiDataGrid-main css-jdaxyo'} )  # You can add {'class': 'your-table-class'} if it's class-based\n",
    "print(table)\n",
    "# Extract rows from the table\n",
    "rows = table.find_all('tr')\n",
    "\n",
    "# Initialize a list to store the extracted data\n",
    "table_data = []\n",
    "\n",
    "# Loop over the rows and extract columns (td elements)\n",
    "for row in rows:\n",
    "    cols = row.find_all('td')\n",
    "    cols = [col.text.strip() for col in cols]  # Extract the text and remove extra spaces\n",
    "    table_data.append(cols)\n",
    "\n",
    "# Convert the list into a Pandas DataFrame\n",
    "df = pd.DataFrame(table_data)\n",
    "\n",
    "# Display the DataFrame\n",
    "print(df)"
   ]
  }
 ],
 "metadata": {
  "kernelspec": {
   "display_name": "Python 3",
   "language": "python",
   "name": "python3"
  },
  "language_info": {
   "codemirror_mode": {
    "name": "ipython",
    "version": 3
   },
   "file_extension": ".py",
   "mimetype": "text/x-python",
   "name": "python",
   "nbconvert_exporter": "python",
   "pygments_lexer": "ipython3",
   "version": "3.11.4"
  }
 },
 "nbformat": 4,
 "nbformat_minor": 2
}
