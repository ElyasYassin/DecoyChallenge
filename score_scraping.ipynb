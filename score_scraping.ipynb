{
 "cells": [
  {
   "cell_type": "code",
   "execution_count": 19,
   "metadata": {},
   "outputs": [
    {
     "name": "stdout",
     "output_type": "stream",
     "text": [
      "<!DOCTYPE html>\n",
      "\n",
      "<html lang=\"en\">\n",
      "<head>\n",
      "<meta charset=\"utf-8\"/>\n",
      "<link href=\"/logo.svg\" rel=\"icon\" type=\"image/svg+xml\"/>\n",
      "<meta content=\"width=device-width, initial-scale=1.0\" name=\"viewport\"/>\n",
      "<title>Decoy Challenge</title>\n",
      "<script crossorigin=\"\" src=\"/static/index-VVKfiJio.js\" type=\"module\"></script>\n",
      "<link crossorigin=\"\" href=\"/static/index-C9G4u8Kz.css\" rel=\"stylesheet\"/>\n",
      "</head>\n",
      "<body>\n",
      "<div id=\"root\"></div>\n",
      "</body>\n",
      "</html>\n",
      "\n",
      "<div id=\"root\"></div>\n",
      "Empty DataFrame\n",
      "Columns: []\n",
      "Index: []\n"
     ]
    }
   ],
   "source": [
    "import requests\n",
    "from bs4 import BeautifulSoup\n",
    "import pandas as pd\n",
    "\n",
    "# URL of the webpage that contains the table\n",
    "url = 'http://decoychallenge.ucdenver.pvt/'\n",
    "\n",
    "# Send a request to fetch the webpage content\n",
    "response = requests.get(url)\n",
    "soup = BeautifulSoup(response.text, 'html.parser')\n",
    "print(soup)\n",
    "\n",
    "\n",
    "# Find the div with id='root'\n",
    "root_div = soup.find('div', {'id': 'root'})\n",
    "\n",
    "# Now search for a table inside this div\n",
    "table = root_div.find('table')\n",
    "print(root_div)\n",
    "\n",
    "# Initialize a list to store the extracted data\n",
    "table_data = []\n",
    "\n",
    "# Loop over the rows and extract columns (td elements)\n",
    "for row in rows:\n",
    "    cols = row.find_all('td')\n",
    "    cols = [col.text.strip() for col in cols]  # Extract the text and remove extra spaces\n",
    "    table_data.append(cols)\n",
    "\n",
    "# Convert the list into a Pandas DataFrame\n",
    "df = pd.DataFrame(table_data)\n",
    "\n",
    "# Display the DataFrame\n",
    "print(df)"
   ]
  }
 ],
 "metadata": {
  "kernelspec": {
   "display_name": "Python 3",
   "language": "python",
   "name": "python3"
  },
  "language_info": {
   "codemirror_mode": {
    "name": "ipython",
    "version": 3
   },
   "file_extension": ".py",
   "mimetype": "text/x-python",
   "name": "python",
   "nbconvert_exporter": "python",
   "pygments_lexer": "ipython3",
   "version": "3.11.4"
  }
 },
 "nbformat": 4,
 "nbformat_minor": 2
}
